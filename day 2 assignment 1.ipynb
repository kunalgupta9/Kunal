{
  "nbformat": 4,
  "nbformat_minor": 0,
  "metadata": {
    "colab": {
      "provenance": []
    },
    "kernelspec": {
      "name": "python3",
      "display_name": "Python 3"
    },
    "language_info": {
      "name": "python"
    }
  },
  "cells": [
    {
      "cell_type": "markdown",
      "source": [
        "## **1. L is list defined as L = [11,12,13,14]**"
      ],
      "metadata": {
        "id": "StOSN9JoP1N7"
      }
    },
    {
      "cell_type": "markdown",
      "source": [
        "**1.1 Adding element in a list**"
      ],
      "metadata": {
        "id": "YcOaD0ZSSUTc"
      }
    },
    {
      "cell_type": "code",
      "execution_count": null,
      "metadata": {
        "colab": {
          "base_uri": "https://localhost:8080/"
        },
        "id": "oLCLNjNdNQwD",
        "outputId": "30ec257d-449c-46a5-ecf6-e6c817c7e693"
      },
      "outputs": [
        {
          "output_type": "stream",
          "name": "stdout",
          "text": [
            "Before adding element -->  [11, 12, 13, 14]\n",
            "After adding 50 and 60 -->  [11, 12, 13, 14, 50, 60]\n"
          ]
        }
      ],
      "source": [
        "L = [11,12,13,14]\n",
        "print(\"Before adding element --> \",L)\n",
        "L.append(50)\n",
        "L.append(60)\n",
        "\n",
        "#L.append([50,60])\n",
        "print(\"After adding 50 and 60 --> \",L)\n"
      ]
    },
    {
      "cell_type": "markdown",
      "source": [
        "**1.2 Removing element from list**"
      ],
      "metadata": {
        "id": "NgnoTIpRQDpu"
      }
    },
    {
      "cell_type": "code",
      "source": [
        "L = [11,12,13,14]\n",
        "print(\"Before removing element --> \",L)\n",
        "L.remove(11)\n",
        "L.remove(13)\n",
        "\n",
        "# del L[0]\n",
        "# del L[2]\n",
        "print(\"After removing 11 and 13 --> \",L)"
      ],
      "metadata": {
        "colab": {
          "base_uri": "https://localhost:8080/"
        },
        "id": "gBh0A0MSOge5",
        "outputId": "d645a4f0-0781-4b0c-c261-788ac6ecfcdb"
      },
      "execution_count": null,
      "outputs": [
        {
          "output_type": "stream",
          "name": "stdout",
          "text": [
            "Before removing element -->  [11, 12, 13, 14]\n",
            "After removing 11 and 13 -->  [12, 13]\n"
          ]
        }
      ]
    },
    {
      "cell_type": "markdown",
      "source": [
        "**1.3 Sorting list in ascending order**"
      ],
      "metadata": {
        "id": "VU8OxmvIQpH9"
      }
    },
    {
      "cell_type": "code",
      "source": [
        "L = [12,14,13,11]\n",
        "print(\"Before sorting elements --> \",L)\n",
        "L.sort()\n",
        "print(\"After sorting elements --> \",L)"
      ],
      "metadata": {
        "colab": {
          "base_uri": "https://localhost:8080/"
        },
        "id": "w9fa1HDiOkXK",
        "outputId": "05187184-386c-4281-d53f-dd86707900d2"
      },
      "execution_count": null,
      "outputs": [
        {
          "output_type": "stream",
          "name": "stdout",
          "text": [
            "Before sorting elements -->  [12, 14, 13, 11]\n",
            "After sorting elements -->  [11, 12, 13, 14]\n"
          ]
        }
      ]
    },
    {
      "cell_type": "markdown",
      "source": [
        "**1.4 Sorting list in descending order**"
      ],
      "metadata": {
        "id": "_XyKU6ghRm6k"
      }
    },
    {
      "cell_type": "code",
      "source": [
        "L = [12,14,13,11]\n",
        "print(\"Before sorting elements --> \",L)\n",
        "L.sort(reverse=True)\n",
        "print(\"After sorting elements --> \",L)"
      ],
      "metadata": {
        "colab": {
          "base_uri": "https://localhost:8080/"
        },
        "id": "DuT2pz-0RwLl",
        "outputId": "01152c60-2b65-45a2-b196-4c39e1db47d7"
      },
      "execution_count": null,
      "outputs": [
        {
          "output_type": "stream",
          "name": "stdout",
          "text": [
            "Before sorting elements -->  [12, 14, 13, 11]\n",
            "After sorting elements -->  [14, 13, 12, 11]\n"
          ]
        }
      ]
    },
    {
      "cell_type": "markdown",
      "source": [
        "**1.5 Searching element in list**"
      ],
      "metadata": {
        "id": "xBZG4NM6Sp1B"
      }
    },
    {
      "cell_type": "code",
      "source": [
        "L = [11,12,13,14]\n",
        "if 13 in L:\n",
        "  print(\"13 is found\")\n",
        "else:\n",
        "  print(\"13 is not found\")"
      ],
      "metadata": {
        "colab": {
          "base_uri": "https://localhost:8080/"
        },
        "id": "azVYSU2FSyDh",
        "outputId": "f4b68399-cc80-4b98-ca87-e7118e90f265"
      },
      "execution_count": null,
      "outputs": [
        {
          "output_type": "stream",
          "name": "stdout",
          "text": [
            "13 is found\n"
          ]
        }
      ]
    },
    {
      "cell_type": "markdown",
      "source": [
        "**1.6 Counting number of elements in list**"
      ],
      "metadata": {
        "id": "TH8i6eprTcK1"
      }
    },
    {
      "cell_type": "code",
      "source": [
        "L = [11,12,13,14]\n",
        "L1 = len(L)\n",
        "print(\"Total number of elements in the list --> \",L1)\n"
      ],
      "metadata": {
        "colab": {
          "base_uri": "https://localhost:8080/"
        },
        "id": "O-yWqXgDTkRY",
        "outputId": "2d638fc1-4b22-4b35-f487-c7432e0c476f"
      },
      "execution_count": null,
      "outputs": [
        {
          "output_type": "stream",
          "name": "stdout",
          "text": [
            "Total number of elements in the list --> 4\n"
          ]
        }
      ]
    },
    {
      "cell_type": "markdown",
      "source": [
        "**1.7 Finding sum of elements in the list**"
      ],
      "metadata": {
        "id": "a13lbjEYVG1K"
      }
    },
    {
      "cell_type": "code",
      "source": [
        "L = [11,12,13,14]\n",
        "s=0\n",
        "for i in L:\n",
        "  s+=i\n",
        "print(\"Sum of elements in the list --> \",s)\n",
        "\n",
        "#print(sum(L))"
      ],
      "metadata": {
        "colab": {
          "base_uri": "https://localhost:8080/"
        },
        "id": "RlQ3M4g1VZK7",
        "outputId": "d5d8752e-bc00-4c55-a678-81254eb2264e"
      },
      "execution_count": null,
      "outputs": [
        {
          "output_type": "stream",
          "name": "stdout",
          "text": [
            "Sum of elements in the list -->  50\n"
          ]
        }
      ]
    },
    {
      "cell_type": "markdown",
      "source": [
        "**1.8 Sum of odd numbers in the list**"
      ],
      "metadata": {
        "id": "_8G-8JIaXOyv"
      }
    },
    {
      "cell_type": "code",
      "source": [
        "L = [11,12,13,14]\n",
        "s=0\n",
        "for i in L:\n",
        "  if i%2!=0:\n",
        "    s+=i\n",
        "print(\"Sum of odd numbers in the list --> \",s)"
      ],
      "metadata": {
        "colab": {
          "base_uri": "https://localhost:8080/"
        },
        "id": "xfxwhCsXZUGw",
        "outputId": "3bdd2fd8-3dfd-494e-a59f-70398105811d"
      },
      "execution_count": null,
      "outputs": [
        {
          "output_type": "stream",
          "name": "stdout",
          "text": [
            "Sum of odd numbers in the list -->  24\n"
          ]
        }
      ]
    },
    {
      "cell_type": "markdown",
      "source": [
        "**1.9 Sum of prime numbers in the list**"
      ],
      "metadata": {
        "id": "pXi4G1oKaYLK"
      }
    },
    {
      "cell_type": "code",
      "source": [
        "L = [11,12,13,14]\n",
        "s=0\n",
        "for i in L:\n",
        "  if i%2==0:\n",
        "    s+=i\n",
        "print(\"Sum of even numbers in the list --> \",s)"
      ],
      "metadata": {
        "colab": {
          "base_uri": "https://localhost:8080/"
        },
        "id": "0Aa8JjqRa3on",
        "outputId": "abd8113d-fe68-405b-bc27-035f12ff8874"
      },
      "execution_count": null,
      "outputs": [
        {
          "output_type": "stream",
          "name": "stdout",
          "text": [
            "Sum of even numbers in the list -->  26\n"
          ]
        }
      ]
    },
    {
      "cell_type": "markdown",
      "source": [
        "**1.10 Sum of prime numbers in the list**"
      ],
      "metadata": {
        "id": "8XfQHl4_a9zD"
      }
    },
    {
      "cell_type": "code",
      "source": [
        "L = [11,12,13,14]\n",
        "s=0\n",
        "for i in L:\n",
        "  count=0\n",
        "  for j in range(1,i+1):\n",
        "     if i%j==0:\n",
        "      count+=1\n",
        "  if count==2:\n",
        "      s+=i\n",
        "print(\"Sum of prime numbers --> \",s)"
      ],
      "metadata": {
        "colab": {
          "base_uri": "https://localhost:8080/"
        },
        "id": "2_XXxU47bGTw",
        "outputId": "dd3ab32e-4092-42fe-ff35-79b90c781e6b"
      },
      "execution_count": null,
      "outputs": [
        {
          "output_type": "stream",
          "name": "stdout",
          "text": [
            "Sum of prime numbers -->  24\n"
          ]
        }
      ]
    },
    {
      "cell_type": "markdown",
      "source": [
        "**1.11 Clear all elements from the list**"
      ],
      "metadata": {
        "id": "nuLohwe3e9S0"
      }
    },
    {
      "cell_type": "code",
      "source": [
        "L = [11,12,13,14]\n",
        "print(\"Before clearing elements -- > \",L)\n",
        "del L[0:4]\n",
        "\n",
        "# L.clear()\n",
        "print(\"After clearing elements -- > \",L)"
      ],
      "metadata": {
        "colab": {
          "base_uri": "https://localhost:8080/"
        },
        "id": "3GorcX6xfJWD",
        "outputId": "e71ec940-1f38-4057-ea3f-de422b4ba97f"
      },
      "execution_count": null,
      "outputs": [
        {
          "output_type": "stream",
          "name": "stdout",
          "text": [
            "Before clearing elements -- >  [11, 12, 13, 14]\n",
            "After clearing elements -- >  []\n"
          ]
        }
      ]
    },
    {
      "cell_type": "markdown",
      "source": [
        "**1.12 Deleting a list**"
      ],
      "metadata": {
        "id": "5qtFUMElfrra"
      }
    },
    {
      "cell_type": "code",
      "source": [
        "L = [11,12,13,14]\n",
        "print(\"Before deleting a list -- > \",L)\n",
        "L1 = L.clear()\n",
        "\n",
        "# del L\n",
        "print(\"After deleting a list -- > \",L1)"
      ],
      "metadata": {
        "colab": {
          "base_uri": "https://localhost:8080/"
        },
        "id": "5J_j4YH5f3ZK",
        "outputId": "1bd144ad-be8a-4164-de8a-0986d7c2b1a3"
      },
      "execution_count": null,
      "outputs": [
        {
          "output_type": "stream",
          "name": "stdout",
          "text": [
            "Before deleting a list -- >  [11, 12, 13, 14]\n",
            "After deleting a list -- >  None\n"
          ]
        }
      ]
    },
    {
      "cell_type": "markdown",
      "source": [
        "## **2. D is a dictionary defined as D= {1:5.6, 2:7.8, 3:6.6, 4:8.7, 5:7.7}.**"
      ],
      "metadata": {
        "id": "TgFqCuBlgX4l"
      }
    },
    {
      "cell_type": "markdown",
      "source": [
        "**2.1 Adding new entry in D**"
      ],
      "metadata": {
        "id": "uqKRuAjBgjqj"
      }
    },
    {
      "cell_type": "code",
      "source": [
        "D = {1:5.6,2:7.8,3:6.6,4:8.7,5:7.7}\n",
        "print(\"Before adding element in the dictionary -- > \",D)\n",
        "D[8] = 8.8\n",
        "print(\"After adding element in the dictionary --> \",D)"
      ],
      "metadata": {
        "colab": {
          "base_uri": "https://localhost:8080/"
        },
        "id": "E8PY31xPgh_p",
        "outputId": "755b0979-f7cd-4871-e08a-57cd3154efae"
      },
      "execution_count": null,
      "outputs": [
        {
          "output_type": "stream",
          "name": "stdout",
          "text": [
            "Before adding element in the dictionary {1: 5.6, 2: 7.8, 3: 6.6, 4: 8.7, 5: 7.7}\n",
            "After adding element in the dictionary {1: 5.6, 2: 7.8, 3: 6.6, 4: 8.7, 5: 7.7, 8: 8.8}\n"
          ]
        }
      ]
    },
    {
      "cell_type": "markdown",
      "source": [
        "**2.2 Deleting key from dictionary**"
      ],
      "metadata": {
        "id": "IfgV90729VEx"
      }
    },
    {
      "cell_type": "code",
      "source": [
        "D = {1:5.6,2:7.8,3:6.6,4:8.7,5:7.7}\n",
        "del D[2]\n",
        "print(\"Deleting element --> \",D)"
      ],
      "metadata": {
        "colab": {
          "base_uri": "https://localhost:8080/"
        },
        "id": "NTS3xRzt9hjN",
        "outputId": "43487d1a-5b41-48ee-83d1-6f408774f502"
      },
      "execution_count": null,
      "outputs": [
        {
          "output_type": "stream",
          "name": "stdout",
          "text": [
            "Deleting element -->  {1: 5.6, 3: 6.6, 4: 8.7, 5: 7.7}\n"
          ]
        }
      ]
    },
    {
      "cell_type": "markdown",
      "source": [
        "**2.3 Searching key in D**"
      ],
      "metadata": {
        "id": "6Z2jYrfd-v9x"
      }
    },
    {
      "cell_type": "code",
      "source": [
        "D = {1:5.6,2:7.8,3:6.6,4:8.7,5:7.7}\n",
        "if 6 in D:\n",
        "  print(\"Yes , 6 is in the dictionary \")\n",
        "else:\n",
        "  print(\"No , 6 is not in the dictionary \")"
      ],
      "metadata": {
        "colab": {
          "base_uri": "https://localhost:8080/"
        },
        "id": "2mQ2N8LL-6_O",
        "outputId": "a83efa06-1c29-486e-9496-92cc6b4c8c3e"
      },
      "execution_count": null,
      "outputs": [
        {
          "output_type": "stream",
          "name": "stdout",
          "text": [
            "No , 6 is not in the dictionary \n"
          ]
        }
      ]
    },
    {
      "cell_type": "markdown",
      "source": [
        "**2.4 Count number of elements in D** **bold text**"
      ],
      "metadata": {
        "id": "3JlfemFs_hYc"
      }
    },
    {
      "cell_type": "code",
      "source": [
        "D = {1:5.6,2:7.8,3:6.6,4:8.7,5:7.7}\n",
        "print(\"Total number of elements in D --> \",len(D))"
      ],
      "metadata": {
        "colab": {
          "base_uri": "https://localhost:8080/"
        },
        "id": "XOUoxDff_rcl",
        "outputId": "1aab2fd7-ac10-4818-c722-58b8048914fa"
      },
      "execution_count": null,
      "outputs": [
        {
          "output_type": "stream",
          "name": "stdout",
          "text": [
            "Total number of elements in D -->  5\n"
          ]
        }
      ]
    },
    {
      "cell_type": "markdown",
      "source": [],
      "metadata": {
        "id": "q7sTke9r_52T"
      }
    },
    {
      "cell_type": "markdown",
      "source": [
        "**2.5 Finding sum of values in D**"
      ],
      "metadata": {
        "id": "q1n-yKMYBX87"
      }
    },
    {
      "cell_type": "code",
      "source": [
        "D = {1:5.6,2:7.8,3:6.6,4:8.7,5:7.7}\n",
        "s=0\n",
        "for i in D.values():\n",
        "  s+=i\n",
        "print(\"Sum of values in D --> \",s)"
      ],
      "metadata": {
        "colab": {
          "base_uri": "https://localhost:8080/"
        },
        "id": "7XaxMRWs_8rP",
        "outputId": "6f73436e-b97b-4b0c-c5bc-a6297e9d242e"
      },
      "execution_count": null,
      "outputs": [
        {
          "output_type": "stream",
          "name": "stdout",
          "text": [
            "Sum of values in D -->  36.4\n"
          ]
        }
      ]
    },
    {
      "cell_type": "markdown",
      "source": [
        "**2.6 Updating value of key in D**"
      ],
      "metadata": {
        "id": "tQCW3sDAR6RH"
      }
    },
    {
      "cell_type": "code",
      "source": [
        "D = {1:5.6,2:7.8,3:6.6,4:8.7,5:7.7}\n",
        "print(\"Before updating value of 3 --> \",D)\n",
        "\n",
        "D[3] = 7.1\n",
        "print(\"After updating value of 3 --> \",D)"
      ],
      "metadata": {
        "colab": {
          "base_uri": "https://localhost:8080/"
        },
        "id": "8Yl3xjZ7BtSN",
        "outputId": "b5bbcc31-9539-4b4e-dc95-68e53e543ae6"
      },
      "execution_count": null,
      "outputs": [
        {
          "output_type": "stream",
          "name": "stdout",
          "text": [
            "Before updating value of 3 -->  {1: 5.6, 2: 7.8, 3: 6.6, 4: 8.7, 5: 7.7}\n",
            "After updating value of 3 -->  {1: 5.6, 2: 7.8, 3: 7.1, 4: 8.7, 5: 7.7}\n"
          ]
        }
      ]
    },
    {
      "cell_type": "markdown",
      "source": [
        "**2.7 Clear the dictionary**"
      ],
      "metadata": {
        "id": "3beYpQ7WCSdK"
      }
    },
    {
      "cell_type": "code",
      "source": [
        "D = {1:5.6,2:7.8,3:6.6,4:8.7,5:7.7}\n",
        "print(\"Before clear the dictionary --> \",D)\n",
        "D.clear()\n",
        "print(\"After clear the dictionary --> \",D)"
      ],
      "metadata": {
        "colab": {
          "base_uri": "https://localhost:8080/"
        },
        "id": "iOBL3whRCLd_",
        "outputId": "bf0d7f7d-85a6-4842-ec6a-e2320a2775e4"
      },
      "execution_count": null,
      "outputs": [
        {
          "output_type": "stream",
          "name": "stdout",
          "text": [
            "Before clear the dictionary -->  {1: 5.6, 2: 7.8, 3: 6.6, 4: 8.7, 5: 7.7}\n",
            "After clear the dictionary -->  {}\n"
          ]
        }
      ]
    },
    {
      "cell_type": "markdown",
      "source": [
        "## **3. Set**"
      ],
      "metadata": {
        "id": "ItBcsvpICy6V"
      }
    },
    {
      "cell_type": "markdown",
      "source": [
        "**3.1 Adding element in the set**"
      ],
      "metadata": {
        "id": "wcfzFfheEb9X"
      }
    },
    {
      "cell_type": "code",
      "source": [
        "S1 = [10, 20, 30, 40, 50, 60]\n",
        "S2 = [40, 50, 60, 70, 80, 90]\n",
        "print(\"Before adding elements in the set --> \",S1)\n",
        "S1.append(55)\n",
        "S1.append(66)\n",
        "\n",
        "#S1.append([55,66])\n",
        "print(\"After adding elements in the set --> \",S1)"
      ],
      "metadata": {
        "colab": {
          "base_uri": "https://localhost:8080/"
        },
        "id": "hRsCIaN-Di0U",
        "outputId": "5b8c8b42-862e-4481-8d66-372e861a1a3d"
      },
      "execution_count": null,
      "outputs": [
        {
          "output_type": "stream",
          "name": "stdout",
          "text": [
            "[10, 20, 30, 40, 50, 60, [55, 66]]\n"
          ]
        }
      ]
    },
    {
      "cell_type": "markdown",
      "source": [
        "**3.2 Removing element from set**"
      ],
      "metadata": {
        "id": "-oDcV9UBGHMI"
      }
    },
    {
      "cell_type": "code",
      "source": [
        "S1 = [10, 20, 30, 40, 50, 60]\n",
        "print(\"Before removing elements from set --> \",S1)\n",
        "# S1.remove(10)\n",
        "# S1.remove(30)\n",
        "\n",
        "del S1[0]\n",
        "del S1[1]\n",
        "print(\"After removing elements from set --> \",S1)"
      ],
      "metadata": {
        "colab": {
          "base_uri": "https://localhost:8080/"
        },
        "id": "0kk8_R2eDdwu",
        "outputId": "4dcc75cc-dd1c-47d4-8382-96185f3b7e00"
      },
      "execution_count": null,
      "outputs": [
        {
          "output_type": "stream",
          "name": "stdout",
          "text": [
            "Before removing elements from set -->  [10, 20, 30, 40, 50, 60]\n",
            "After removing elements from set -->  [20, 40, 50, 60]\n"
          ]
        }
      ]
    },
    {
      "cell_type": "markdown",
      "source": [],
      "metadata": {
        "id": "o2VNDxPtGbyE"
      }
    },
    {
      "cell_type": "markdown",
      "source": [
        "**3.3 Searching element in the set**"
      ],
      "metadata": {
        "id": "J81lUDOKHYU0"
      }
    },
    {
      "cell_type": "code",
      "source": [
        "S1 = [10, 20, 30, 40, 50, 60]\n",
        "if 40 in S1:\n",
        "  print(\"40 is in the set S1\")\n",
        "else:\n",
        "  print(\"40 in not in the set S1\")"
      ],
      "metadata": {
        "colab": {
          "base_uri": "https://localhost:8080/"
        },
        "id": "-mMButiODWor",
        "outputId": "3a601ad0-680b-445f-ef8a-6d60c7ea913b"
      },
      "execution_count": null,
      "outputs": [
        {
          "output_type": "stream",
          "name": "stdout",
          "text": [
            "40 is in the set S1\n"
          ]
        }
      ]
    },
    {
      "cell_type": "markdown",
      "source": [
        "**3.4 Union of sets**"
      ],
      "metadata": {
        "id": "1TmSZrHFIXts"
      }
    },
    {
      "cell_type": "code",
      "source": [
        "S1 = set([10, 20, 30, 40, 50, 60])\n",
        "S2 = set([40, 50, 60, 70, 80, 90])\n",
        "print(\"Union of S1 and S2 --> \",S1.union(S2))"
      ],
      "metadata": {
        "colab": {
          "base_uri": "https://localhost:8080/"
        },
        "id": "ZzbyD8HSDEFG",
        "outputId": "85d2073a-78f2-42df-b1e7-9b4319be8412"
      },
      "execution_count": null,
      "outputs": [
        {
          "output_type": "stream",
          "name": "stdout",
          "text": [
            "Union of S1 and S2 -->  {70, 40, 10, 80, 50, 20, 90, 60, 30}\n"
          ]
        }
      ]
    },
    {
      "cell_type": "markdown",
      "source": [
        "**3.5 Intersection of sets**"
      ],
      "metadata": {
        "id": "yC3CcCRMJEJy"
      }
    },
    {
      "cell_type": "code",
      "source": [
        "S1 = set([10, 20, 30, 40, 50, 60])\n",
        "S2 = set([40, 50, 60, 70, 80, 90])\n",
        "print(\"Intersection of S1 and S2 --> \",S1.intersection(S2))"
      ],
      "metadata": {
        "id": "NtwVS-9FId4V"
      },
      "execution_count": null,
      "outputs": []
    },
    {
      "cell_type": "markdown",
      "source": [
        "**3.6 Difference of sets**"
      ],
      "metadata": {
        "id": "Pvz1hP4vIdWf"
      }
    },
    {
      "cell_type": "code",
      "source": [
        "S1 = set([10, 20, 30, 40, 50, 60])\n",
        "S2 = set([40, 50, 60, 70, 80, 90])\n",
        "# print(\"Difference of S1 and S2 --> \",S1-S2)\n",
        "\n",
        "print(\"Difference of S1 and S2 --> \",S1.difference(S2))"
      ],
      "metadata": {
        "colab": {
          "base_uri": "https://localhost:8080/"
        },
        "id": "b_WVOLFRJTKD",
        "outputId": "c30bb254-eb16-4f57-c927-5e381d7bd3a0"
      },
      "execution_count": null,
      "outputs": [
        {
          "output_type": "stream",
          "name": "stdout",
          "text": [
            "Difference of S1 and S2 -->  {10, 20, 30}\n"
          ]
        }
      ]
    },
    {
      "cell_type": "markdown",
      "source": [
        "## **4. Programs**"
      ],
      "metadata": {
        "id": "Zl6CnBWqPaWN"
      }
    },
    {
      "cell_type": "markdown",
      "source": [
        "**4.1 Printing 100 random strings whose length between 6 and 8**"
      ],
      "metadata": {
        "id": "UDFiyPk3MsEi"
      }
    },
    {
      "cell_type": "code",
      "source": [
        "import random as r\n",
        "import string as s\n",
        "for i in range(100):\n",
        "  print(\"\".join(r.sample(s.ascii_letters+s.digits,k=r.randint(6,8))))"
      ],
      "metadata": {
        "id": "935RrzrxPe0X",
        "colab": {
          "base_uri": "https://localhost:8080/"
        },
        "outputId": "198114c9-2cd5-44aa-d2ad-f2df70306764"
      },
      "execution_count": 4,
      "outputs": [
        {
          "output_type": "stream",
          "name": "stdout",
          "text": [
            "h7n96X\n",
            "WrLk7h\n",
            "v6RhYzy\n",
            "xAlKwX\n",
            "kgb2uG\n",
            "8e3dOwLb\n",
            "j8SDpBe\n",
            "cgEpFsU\n",
            "6QP1pq\n",
            "MA3sdN\n",
            "5hqtQdP\n",
            "7q0FjQ\n",
            "inNR3QbW\n",
            "L4Xinh\n",
            "Hmnrv4xy\n",
            "gIJbms4\n",
            "Lu2mcdZ\n",
            "rGWf3Q\n",
            "IqoLuyrf\n",
            "38sVvS\n",
            "5Er3uM\n",
            "B6V0NRC\n",
            "KBI4Z57E\n",
            "ksxfhad8\n",
            "qMrKmkJf\n",
            "CmM1juD\n",
            "5YBOlt\n",
            "Fgr08s\n",
            "gMnRVq8b\n",
            "42bmOr\n",
            "QB1t4o\n",
            "Fo1UlWhf\n",
            "mR2yurK9\n",
            "pDJoLSHk\n",
            "vclq316\n",
            "dcP0LVK2\n",
            "98LDBA3\n",
            "wuDjEr\n",
            "YyXt6PMN\n",
            "SMy6Uxd\n",
            "yrRF4IZ\n",
            "8PdD2Y\n",
            "4L3TRn\n",
            "GvWXUo2\n",
            "x56g4k\n",
            "WIZMFeC\n",
            "4aUDtze\n",
            "O1zqw9\n",
            "POL52r\n",
            "8aqu9o\n",
            "cvXxdTq\n",
            "EAULIJCj\n",
            "3fAG0i\n",
            "vpeqRj\n",
            "NZyxSb\n",
            "BHl1QK\n",
            "WXUMDaRO\n",
            "R9FTla\n",
            "Znehos\n",
            "4Dp9NI\n",
            "k4lVHQMc\n",
            "aoISMRu1\n",
            "cfLvMUGY\n",
            "n3wHpe\n",
            "ctX0L7\n",
            "y9FjBk\n",
            "wvOM7aJ\n",
            "GuzBcm\n",
            "m1K0hT\n",
            "wiMWAQ\n",
            "SNLj8Y4\n",
            "AgVRxi\n",
            "cx20V8kH\n",
            "4bdGRIV\n",
            "mFE23CoD\n",
            "tOCYVBf\n",
            "MEeqUSo\n",
            "fhLXKx\n",
            "72PBJqs0\n",
            "p9AsUQ\n",
            "hyv1YAQ5\n",
            "8yRHXDje\n",
            "80Tqu1y\n",
            "V0286I\n",
            "xAJIopG2\n",
            "yL028Aa\n",
            "DCc6Fn3\n",
            "8NlLTOn\n",
            "Rd2OHKX6\n",
            "YAlb07M\n",
            "Or12FVZ\n",
            "4Br2Rux\n",
            "1BCs9IP\n",
            "J38IKgM\n",
            "UIvZA9fS\n",
            "R5VPcAO\n",
            "oLTuHN4\n",
            "fDZJ0sO\n",
            "Zm5C7KA\n",
            "BlNtOskf\n"
          ]
        }
      ]
    },
    {
      "cell_type": "markdown",
      "source": [
        "**4.2 Printing prime numbers between 600 and 800**"
      ],
      "metadata": {
        "id": "aDqLXJc8PRkO"
      }
    },
    {
      "cell_type": "code",
      "source": [
        "for i in range(600,801):\n",
        "  count = 0\n",
        "  for j in range(1,i+1):\n",
        "    if i%j==0:\n",
        "      count+=1\n",
        "  if count==2:\n",
        "    print(\"Printing numbers between 600 and 800 --> \",i)"
      ],
      "metadata": {
        "colab": {
          "base_uri": "https://localhost:8080/"
        },
        "id": "1Gp10tAbPYP1",
        "outputId": "ea911603-7ee2-4a89-897d-76d3b5ad3f96"
      },
      "execution_count": 9,
      "outputs": [
        {
          "output_type": "stream",
          "name": "stdout",
          "text": [
            "Printing numbers between 600 and 800 -->  601\n",
            "Printing numbers between 600 and 800 -->  607\n",
            "Printing numbers between 600 and 800 -->  613\n",
            "Printing numbers between 600 and 800 -->  617\n",
            "Printing numbers between 600 and 800 -->  619\n",
            "Printing numbers between 600 and 800 -->  631\n",
            "Printing numbers between 600 and 800 -->  641\n",
            "Printing numbers between 600 and 800 -->  643\n",
            "Printing numbers between 600 and 800 -->  647\n",
            "Printing numbers between 600 and 800 -->  653\n",
            "Printing numbers between 600 and 800 -->  659\n",
            "Printing numbers between 600 and 800 -->  661\n",
            "Printing numbers between 600 and 800 -->  673\n",
            "Printing numbers between 600 and 800 -->  677\n",
            "Printing numbers between 600 and 800 -->  683\n",
            "Printing numbers between 600 and 800 -->  691\n",
            "Printing numbers between 600 and 800 -->  701\n",
            "Printing numbers between 600 and 800 -->  709\n",
            "Printing numbers between 600 and 800 -->  719\n",
            "Printing numbers between 600 and 800 -->  727\n",
            "Printing numbers between 600 and 800 -->  733\n",
            "Printing numbers between 600 and 800 -->  739\n",
            "Printing numbers between 600 and 800 -->  743\n",
            "Printing numbers between 600 and 800 -->  751\n",
            "Printing numbers between 600 and 800 -->  757\n",
            "Printing numbers between 600 and 800 -->  761\n",
            "Printing numbers between 600 and 800 -->  769\n",
            "Printing numbers between 600 and 800 -->  773\n",
            "Printing numbers between 600 and 800 -->  787\n",
            "Printing numbers between 600 and 800 -->  797\n"
          ]
        }
      ]
    },
    {
      "cell_type": "markdown",
      "source": [
        "**4.3 Printing all numbers between 100 and 1000 that are divisible by 7 and 9**"
      ],
      "metadata": {
        "id": "jQ7uAjAhRXdp"
      }
    },
    {
      "cell_type": "code",
      "source": [
        "for i in range(100,1001):\n",
        "  if i%7==0:\n",
        "    print(\"Number divisible by 7 --> \",i)\n",
        "  if i%9==0:\n",
        "    print(\"Number divisible by 9 --> \",i)\n",
        "\n",
        "# for i in range(100,1001):\n",
        "#   if i%7==0 and i%9==0:\n",
        "#     print(\"Numbers that are divide by both 7 and 9 --> \",i)"
      ],
      "metadata": {
        "colab": {
          "base_uri": "https://localhost:8080/"
        },
        "id": "y9X4csbkRe22",
        "outputId": "e99027c7-1d62-4e34-c62a-7c6fb6fe0d8a"
      },
      "execution_count": 12,
      "outputs": [
        {
          "output_type": "stream",
          "name": "stdout",
          "text": [
            "Numbers that are divide by both 7 and 9 -->  126\n",
            "Numbers that are divide by both 7 and 9 -->  189\n",
            "Numbers that are divide by both 7 and 9 -->  252\n",
            "Numbers that are divide by both 7 and 9 -->  315\n",
            "Numbers that are divide by both 7 and 9 -->  378\n",
            "Numbers that are divide by both 7 and 9 -->  441\n",
            "Numbers that are divide by both 7 and 9 -->  504\n",
            "Numbers that are divide by both 7 and 9 -->  567\n",
            "Numbers that are divide by both 7 and 9 -->  630\n",
            "Numbers that are divide by both 7 and 9 -->  693\n",
            "Numbers that are divide by both 7 and 9 -->  756\n",
            "Numbers that are divide by both 7 and 9 -->  819\n",
            "Numbers that are divide by both 7 and 9 -->  882\n",
            "Numbers that are divide by both 7 and 9 -->  945\n"
          ]
        }
      ]
    },
    {
      "cell_type": "markdown",
      "source": [
        "## **5. Creating random list**"
      ],
      "metadata": {
        "id": "F3dK2XQQTN1h"
      }
    },
    {
      "cell_type": "markdown",
      "source": [
        "**5.1 Common numbers in two list**"
      ],
      "metadata": {
        "id": "LZ0N_2z4TUw3"
      }
    },
    {
      "cell_type": "code",
      "source": [
        "import random as r\n",
        "L1 = []\n",
        "L2 = []\n",
        "for i in range(10):\n",
        "  L1.append(r.randint(10,30))\n",
        "print(\"List L1 --> \",L1)\n",
        "for j in range(10):\n",
        "  L2.append(r.randint(10,30))\n",
        "print(\"List L2 --> \",L2)\n",
        "\n",
        "L3 = []\n",
        "for i in L1:\n",
        "  if i in L2 and i not in L3:\n",
        "    L3.append(i)\n",
        "print(\"Common elements in both L1 and L2 --> \",L3)"
      ],
      "metadata": {
        "colab": {
          "base_uri": "https://localhost:8080/"
        },
        "id": "pUt_6gSmTfuB",
        "outputId": "b3799477-eebf-4e53-f4cb-f43b53702353"
      },
      "execution_count": 34,
      "outputs": [
        {
          "output_type": "stream",
          "name": "stdout",
          "text": [
            "List L1 -->  [27, 28, 18, 10, 28, 26, 21, 30, 14, 13]\n",
            "List L2 -->  [20, 12, 17, 26, 21, 22, 14, 20, 25, 22]\n",
            "Common elements in both L1 and L2 -->  [26, 21, 14]\n"
          ]
        }
      ]
    },
    {
      "cell_type": "markdown",
      "source": [
        "**5.2 Unique numbers in both list**"
      ],
      "metadata": {
        "id": "E95lhLtdcmBk"
      }
    },
    {
      "cell_type": "code",
      "source": [
        "L1 = []\n",
        "L2 = []\n",
        "for i in range(10):\n",
        "  L1.append(r.randint(10,30))\n",
        "print(\"List L1 --> \",L1)\n",
        "for j in range(10):\n",
        "  L2.append(r.randint(10,30))\n",
        "print(\"List L2 --> \",L2)\n",
        "\n",
        "L3 = []\n",
        "for i in L1:\n",
        "  if i not in L2 and i not in L3:\n",
        "    L3.append(i)\n",
        "for i in L2:\n",
        "  if i not in L1 and i not in L3:\n",
        "    L3.append(i)\n",
        "print(\"Unique numbers in L1 and L2 --> \",L3)"
      ],
      "metadata": {
        "colab": {
          "base_uri": "https://localhost:8080/"
        },
        "id": "tJZ24ZhacuLV",
        "outputId": "7bc1fbfd-b01a-400f-8f72-d40f1c1ba231"
      },
      "execution_count": 42,
      "outputs": [
        {
          "output_type": "stream",
          "name": "stdout",
          "text": [
            "List L1 -->  [18, 29, 23, 27, 10, 15, 29, 19, 30, 30]\n",
            "List L2 -->  [26, 18, 10, 13, 14, 22, 13, 27, 13, 19]\n",
            "Unique numbers in L1 and L2 -->  [29, 23, 15, 30, 26, 13, 14, 22]\n"
          ]
        }
      ]
    },
    {
      "cell_type": "markdown",
      "source": [
        "**5.3 Minimum in both L1 and L2**"
      ],
      "metadata": {
        "id": "RuBDKjkXfzKN"
      }
    },
    {
      "cell_type": "code",
      "source": [
        "L1 = []\n",
        "L2 = []\n",
        "for i in range(10):\n",
        "  L1.append(r.randint(10,30))\n",
        "print(\"List L1 --> \",L1)\n",
        "for j in range(10):\n",
        "  L2.append(r.randint(10,30))\n",
        "print(\"List L2 --> \",L2)\n",
        "\n",
        "min_L1 = min(L1)\n",
        "min_L2 = min(L2)\n",
        "overall_min = min(min_L1,min_L2)\n",
        "print(\"Minimum in L1 --> \",min_L1)\n",
        "print(\"Minimum in L2 --> \",min_L2)\n",
        "print(\"Minimum in both L1 and L2 --> \",overall_min)"
      ],
      "metadata": {
        "colab": {
          "base_uri": "https://localhost:8080/"
        },
        "id": "dRpoP8I9f9ym",
        "outputId": "e5f6e4b0-7f35-4175-ac81-d5a0b2c77529"
      },
      "execution_count": 43,
      "outputs": [
        {
          "output_type": "stream",
          "name": "stdout",
          "text": [
            "List L1 -->  [20, 23, 12, 20, 15, 21, 12, 13, 24, 22]\n",
            "List L2 -->  [13, 24, 14, 27, 15, 11, 30, 24, 24, 11]\n",
            "Minimum in L1 -->  12\n",
            "Minimum in L2 -->  11\n",
            "Minimum in both L1 and L2 -->  11\n"
          ]
        }
      ]
    },
    {
      "cell_type": "markdown",
      "source": [
        "**5.4 Maximum in both L1 and L2**"
      ],
      "metadata": {
        "id": "OfwgsrpaiEDP"
      }
    },
    {
      "cell_type": "code",
      "source": [
        "L1 = []\n",
        "L2 = []\n",
        "for i in range(10):\n",
        "  L1.append(r.randint(10,30))\n",
        "print(\"List L1 --> \",L1)\n",
        "for j in range(10):\n",
        "  L2.append(r.randint(10,30))\n",
        "print(\"List L2 --> \",L2)\n",
        "\n",
        "max_L1 = max(L1)\n",
        "max_L2 = max(L2)\n",
        "overall_max = max(max_L1,min_L2)\n",
        "print(\"Maximum in L1 --> \",max_L1)\n",
        "print(\"Maximum in L2 --> \",max_L2)\n",
        "print(\"Maximum in both L1 and L2 --> \",overall_max)"
      ],
      "metadata": {
        "colab": {
          "base_uri": "https://localhost:8080/"
        },
        "id": "vOqmeovohuRr",
        "outputId": "fb9f3c28-7a2b-4043-a892-a1093dca35f3"
      },
      "execution_count": 44,
      "outputs": [
        {
          "output_type": "stream",
          "name": "stdout",
          "text": [
            "List L1 -->  [28, 10, 14, 22, 28, 14, 11, 22, 15, 13]\n",
            "List L2 -->  [28, 25, 11, 20, 15, 10, 13, 18, 21, 26]\n",
            "Maximum in L1 -->  28\n",
            "Maximum in L2 -->  28\n",
            "Maximum in both L1 and L2 -->  28\n"
          ]
        }
      ]
    },
    {
      "cell_type": "markdown",
      "source": [
        "**5.5 Sum of both the lists**"
      ],
      "metadata": {
        "id": "N0ojefRoiItW"
      }
    },
    {
      "cell_type": "code",
      "source": [
        "L1 = []\n",
        "L2 = []\n",
        "for i in range(10):\n",
        "  L1.append(r.randint(10,30))\n",
        "print(\"List L1 --> \",L1)\n",
        "for j in range(10):\n",
        "  L2.append(r.randint(10,30))\n",
        "print(\"List L2 --> \",L2)\n",
        "\n",
        "L3 = L1 + L2\n",
        "print(\"Sum of list L1 and L2 --> \",L3)"
      ],
      "metadata": {
        "colab": {
          "base_uri": "https://localhost:8080/"
        },
        "id": "Y4fpIcRSiVm2",
        "outputId": "186ab958-5f07-4d4e-f0d4-b4d850b21efb"
      },
      "execution_count": 45,
      "outputs": [
        {
          "output_type": "stream",
          "name": "stdout",
          "text": [
            "List L1 -->  [13, 19, 23, 28, 12, 25, 10, 16, 26, 28]\n",
            "List L2 -->  [27, 29, 23, 11, 24, 11, 15, 12, 18, 24]\n",
            "Sum of list L1 and L2 -->  [13, 19, 23, 28, 12, 25, 10, 16, 26, 28, 27, 29, 23, 11, 24, 11, 15, 12, 18, 24]\n"
          ]
        }
      ]
    },
    {
      "cell_type": "markdown",
      "source": [
        "## **6. List of 100 random numbers between 100 and 900**"
      ],
      "metadata": {
        "id": "VFUL3A7hkXwS"
      }
    },
    {
      "cell_type": "markdown",
      "source": [
        "**6.1 Printing all odd numbers in the list**"
      ],
      "metadata": {
        "id": "ck8KmQ3bkfM0"
      }
    },
    {
      "cell_type": "code",
      "source": [
        "import random as r\n",
        "L1 = []\n",
        "for i in range(100):\n",
        "  L1.append(r.randint(100,900))\n",
        "print(\"List of random numbers between 100 and 900 --> \",L1)\n",
        "\n",
        "Odd_count=0\n",
        "for i in L1:\n",
        "  if i%2!=0:\n",
        "    print(\"Odd number --> \",i)\n",
        "    Odd_count+=1\n",
        "print(\"Total number of odd numbers --> \",Odd_count)"
      ],
      "metadata": {
        "colab": {
          "base_uri": "https://localhost:8080/"
        },
        "id": "KM06RlXsk5na",
        "outputId": "2f67f2da-be49-4dab-e16d-152504e54ca5"
      },
      "execution_count": 70,
      "outputs": [
        {
          "output_type": "stream",
          "name": "stdout",
          "text": [
            "List of random numbers between 100 and 900 -->  [743, 147, 118, 407, 665, 163, 404, 612, 724, 230, 220, 795, 151, 452, 316, 849, 238, 399, 408, 725, 319, 759, 508, 321, 656, 707, 874, 739, 343, 592, 542, 182, 125, 158, 509, 860, 417, 683, 309, 734, 869, 435, 666, 289, 467, 136, 490, 721, 600, 497, 735, 819, 352, 666, 839, 496, 556, 452, 604, 180, 222, 768, 114, 166, 488, 475, 277, 793, 209, 109, 381, 397, 685, 460, 742, 745, 382, 631, 403, 327, 719, 149, 531, 152, 538, 265, 883, 384, 765, 688, 376, 104, 163, 412, 150, 705, 245, 258, 248, 106]\n",
            "Odd number -->  743\n",
            "Odd number -->  147\n",
            "Odd number -->  407\n",
            "Odd number -->  665\n",
            "Odd number -->  163\n",
            "Odd number -->  795\n",
            "Odd number -->  151\n",
            "Odd number -->  849\n",
            "Odd number -->  399\n",
            "Odd number -->  725\n",
            "Odd number -->  319\n",
            "Odd number -->  759\n",
            "Odd number -->  321\n",
            "Odd number -->  707\n",
            "Odd number -->  739\n",
            "Odd number -->  343\n",
            "Odd number -->  125\n",
            "Odd number -->  509\n",
            "Odd number -->  417\n",
            "Odd number -->  683\n",
            "Odd number -->  309\n",
            "Odd number -->  869\n",
            "Odd number -->  435\n",
            "Odd number -->  289\n",
            "Odd number -->  467\n",
            "Odd number -->  721\n",
            "Odd number -->  497\n",
            "Odd number -->  735\n",
            "Odd number -->  819\n",
            "Odd number -->  839\n",
            "Odd number -->  475\n",
            "Odd number -->  277\n",
            "Odd number -->  793\n",
            "Odd number -->  209\n",
            "Odd number -->  109\n",
            "Odd number -->  381\n",
            "Odd number -->  397\n",
            "Odd number -->  685\n",
            "Odd number -->  745\n",
            "Odd number -->  631\n",
            "Odd number -->  403\n",
            "Odd number -->  327\n",
            "Odd number -->  719\n",
            "Odd number -->  149\n",
            "Odd number -->  531\n",
            "Odd number -->  265\n",
            "Odd number -->  883\n",
            "Odd number -->  765\n",
            "Odd number -->  163\n",
            "Odd number -->  705\n",
            "Odd number -->  245\n",
            "Total number of odd numbers -->  51\n"
          ]
        }
      ]
    },
    {
      "cell_type": "markdown",
      "source": [
        "**6.2 Printing all even numbers in the list**"
      ],
      "metadata": {
        "id": "psUzhIvVmZTL"
      }
    },
    {
      "cell_type": "code",
      "source": [
        "import random as r\n",
        "L1 = []\n",
        "for i in range(100):\n",
        "  L1.append(r.randint(100,900))\n",
        "print(\"List of random numbers between 100 and 900 --> \",L1)\n",
        "\n",
        "Even_count=0\n",
        "for i in L1:\n",
        "  if i%2==0:\n",
        "    print(\"Even number --> \",i)\n",
        "    Even_count+=1\n",
        "print(\"Total number of even numbers --> \",Even_count)"
      ],
      "metadata": {
        "colab": {
          "base_uri": "https://localhost:8080/"
        },
        "id": "FE1dyOCsmYAc",
        "outputId": "fba9be67-33c4-4816-b316-ff475dc2fdaa"
      },
      "execution_count": 69,
      "outputs": [
        {
          "output_type": "stream",
          "name": "stdout",
          "text": [
            "List of random numbers between 100 and 900 -->  [267, 195, 416, 815, 338, 111, 168, 652, 773, 257, 710, 305, 175, 444, 717, 617, 336, 551, 393, 194, 490, 170, 550, 575, 632, 774, 697, 398, 121, 720, 890, 212, 133, 779, 343, 607, 731, 836, 868, 747, 700, 585, 329, 885, 544, 616, 847, 682, 514, 192, 296, 273, 803, 880, 624, 164, 745, 423, 147, 473, 700, 535, 109, 882, 334, 467, 447, 157, 388, 573, 386, 774, 305, 836, 833, 141, 700, 149, 868, 798, 204, 654, 487, 355, 410, 151, 321, 303, 354, 119, 292, 128, 272, 336, 753, 337, 317, 197, 171, 661]\n",
            "Even number -->  416\n",
            "Even number -->  338\n",
            "Even number -->  168\n",
            "Even number -->  652\n",
            "Even number -->  710\n",
            "Even number -->  444\n",
            "Even number -->  336\n",
            "Even number -->  194\n",
            "Even number -->  490\n",
            "Even number -->  170\n",
            "Even number -->  550\n",
            "Even number -->  632\n",
            "Even number -->  774\n",
            "Even number -->  398\n",
            "Even number -->  720\n",
            "Even number -->  890\n",
            "Even number -->  212\n",
            "Even number -->  836\n",
            "Even number -->  868\n",
            "Even number -->  700\n",
            "Even number -->  544\n",
            "Even number -->  616\n",
            "Even number -->  682\n",
            "Even number -->  514\n",
            "Even number -->  192\n",
            "Even number -->  296\n",
            "Even number -->  880\n",
            "Even number -->  624\n",
            "Even number -->  164\n",
            "Even number -->  700\n",
            "Even number -->  882\n",
            "Even number -->  334\n",
            "Even number -->  388\n",
            "Even number -->  386\n",
            "Even number -->  774\n",
            "Even number -->  836\n",
            "Even number -->  700\n",
            "Even number -->  868\n",
            "Even number -->  798\n",
            "Even number -->  204\n",
            "Even number -->  654\n",
            "Even number -->  410\n",
            "Even number -->  354\n",
            "Even number -->  292\n",
            "Even number -->  128\n",
            "Even number -->  272\n",
            "Even number -->  336\n",
            "Total number of even numbers -->  47\n"
          ]
        }
      ]
    },
    {
      "cell_type": "markdown",
      "source": [
        "**6.3 Printing all prime numbers in the list**"
      ],
      "metadata": {
        "id": "Y09eNkaJmnu7"
      }
    },
    {
      "cell_type": "code",
      "source": [
        "import random as r\n",
        "L1 = []\n",
        "for i in range(100):\n",
        "  L1.append(r.randint(100,900))\n",
        "print(\"List of random numbers between 100 and 900 --> \",L1)\n",
        "\n",
        "Prime_count=0\n",
        "for i in L1:\n",
        "  count = 0\n",
        "  for j in range(1, i+1):\n",
        "    if i%j==0:\n",
        "      count+=1\n",
        "  if count == 2:\n",
        "    print(\"Prime number --> \",i)\n",
        "    Prime_count+=1\n",
        "print(\"Total number of prime numbers --> \",Prime_count)"
      ],
      "metadata": {
        "colab": {
          "base_uri": "https://localhost:8080/"
        },
        "id": "j0vlnSdVmt1L",
        "outputId": "68f0ea49-26db-4092-f388-226012d04e68"
      },
      "execution_count": 71,
      "outputs": [
        {
          "output_type": "stream",
          "name": "stdout",
          "text": [
            "List of random numbers between 100 and 900 -->  [211, 227, 817, 771, 884, 401, 573, 492, 602, 148, 535, 132, 199, 813, 405, 300, 411, 216, 730, 492, 644, 338, 499, 374, 554, 270, 867, 473, 162, 780, 521, 112, 529, 471, 123, 698, 480, 768, 868, 272, 635, 283, 498, 166, 765, 749, 187, 331, 628, 455, 899, 214, 818, 174, 392, 232, 175, 551, 579, 410, 172, 438, 454, 103, 270, 500, 161, 447, 618, 479, 336, 240, 825, 130, 738, 609, 651, 279, 588, 131, 780, 530, 593, 413, 778, 405, 184, 802, 258, 800, 401, 762, 631, 465, 815, 489, 425, 864, 609, 552]\n",
            "Prime number -->  211\n",
            "Prime number -->  227\n",
            "Prime number -->  401\n",
            "Prime number -->  199\n",
            "Prime number -->  499\n",
            "Prime number -->  521\n",
            "Prime number -->  283\n",
            "Prime number -->  331\n",
            "Prime number -->  103\n",
            "Prime number -->  479\n",
            "Prime number -->  131\n",
            "Prime number -->  593\n",
            "Prime number -->  401\n",
            "Prime number -->  631\n",
            "Total number of prime numbers -->  14\n"
          ]
        }
      ]
    },
    {
      "cell_type": "markdown",
      "source": [
        "## **7. Writing program of dictionary into a file**"
      ],
      "metadata": {
        "id": "ZcL0LeyCqrcM"
      }
    },
    {
      "cell_type": "code",
      "source": [
        "D = {1:\"One\", 2:\"Two\", 3:\"Three\", 4:\"Four\", 5:\"Five\"}\n",
        "\n",
        "with open(\"dictionary_output.txt\", \"w\") as file:\n",
        "    for key, value in D.items():\n",
        "        file.write(f\"{key}, {value}\\n\")\n",
        "\n",
        "print(\"Dictionary written to file successfully!\")\n"
      ],
      "metadata": {
        "colab": {
          "base_uri": "https://localhost:8080/"
        },
        "id": "AICGe4sTpNTx",
        "outputId": "ba89aacd-96f5-41bd-b3de-c526f4725c15"
      },
      "execution_count": 58,
      "outputs": [
        {
          "output_type": "stream",
          "name": "stdout",
          "text": [
            "Dictionary written to file successfully!\n"
          ]
        }
      ]
    },
    {
      "cell_type": "markdown",
      "source": [
        "## **8. Writing program of list into a file**"
      ],
      "metadata": {
        "id": "12T48bx_rPP3"
      }
    },
    {
      "cell_type": "code",
      "source": [
        "L = [\"One\" , \"Two\" , \"Three\" , \"Four\" , \"Five\"]\n",
        "\n",
        "with open(\"list_output.txt\", \"w\") as file:\n",
        "  for i in L:\n",
        "    length = len(i)\n",
        "    file.write(f\"{i},{length}\\n\")\n",
        "print(\"List written to file successfully!\")"
      ],
      "metadata": {
        "colab": {
          "base_uri": "https://localhost:8080/"
        },
        "id": "3qJNAuIArX4D",
        "outputId": "29c00298-f86e-45e4-fb41-42491992beb9"
      },
      "execution_count": 59,
      "outputs": [
        {
          "output_type": "stream",
          "name": "stdout",
          "text": [
            "List written to file successfully!\n"
          ]
        }
      ]
    },
    {
      "cell_type": "markdown",
      "source": [
        "## **9. Writing program of 100 random strings to a file**"
      ],
      "metadata": {
        "id": "BEQLJRhitH8l"
      }
    },
    {
      "cell_type": "code",
      "source": [
        "import random as r\n",
        "import string as s\n",
        "L = []\n",
        "length = r.randint(10,15)\n",
        "for i in range(100):\n",
        "  L.append(\"\".join(r.sample(s.ascii_letters + s.digits,k=length)))\n",
        "with open(\"random_string.txt\", \"w\") as file:\n",
        "  for i in L:\n",
        "    file.write(f\"{i}\\n\")\n",
        "print(\"Random_strings written to file successfully!\")"
      ],
      "metadata": {
        "colab": {
          "base_uri": "https://localhost:8080/"
        },
        "id": "PVj1FUCNtS5v",
        "outputId": "d7705d2a-23d4-49fe-812d-b4dbc98c0018"
      },
      "execution_count": 63,
      "outputs": [
        {
          "output_type": "stream",
          "name": "stdout",
          "text": [
            "Random_strings written to file successfully!\n"
          ]
        }
      ]
    },
    {
      "cell_type": "markdown",
      "source": [
        "## **10. Writing program of all prime numbers to a file**"
      ],
      "metadata": {
        "id": "ukNODrKqxFca"
      }
    },
    {
      "cell_type": "code",
      "source": [
        "L = []\n",
        "for i in range(600,801):\n",
        "  count = 0\n",
        "  for j in range(1, i+1):\n",
        "    if i%j==0:\n",
        "      count+=1\n",
        "  if count == 2:\n",
        "    L.append(i)\n",
        "\n",
        "with open(\"Prime_numbers.txt\", \"w\") as file:\n",
        "  for i in L:\n",
        "    file.write(f\"{i}\\n\")\n",
        "print(\"Prime_numbers written to file successfully!\")"
      ],
      "metadata": {
        "colab": {
          "base_uri": "https://localhost:8080/"
        },
        "id": "ptLN5EpwxRoJ",
        "outputId": "0bac7f52-ceaa-4c94-cdb9-a8bff272a8f8"
      },
      "execution_count": 64,
      "outputs": [
        {
          "output_type": "stream",
          "name": "stdout",
          "text": [
            "Prime_numbers written to file successfully!\n"
          ]
        }
      ]
    },
    {
      "cell_type": "markdown",
      "source": [
        "## **11. Time taken by a program**"
      ],
      "metadata": {
        "id": "irmrjXuj0tad"
      }
    },
    {
      "cell_type": "code",
      "source": [
        "import time as t\n",
        "start_time = t.time()\n",
        "\n",
        "total = 0\n",
        "for i in range(1,1000):\n",
        "  total+=1\n",
        "\n",
        "end_time = t.time()\n",
        "total_time = end_time - start_time\n",
        "print(f\"Total time taken by a program -->  {total_time:.6f} sec\")"
      ],
      "metadata": {
        "colab": {
          "base_uri": "https://localhost:8080/"
        },
        "id": "YskBDE_Y0MNK",
        "outputId": "c884d491-d9c5-4696-be53-62581dd7660c"
      },
      "execution_count": 75,
      "outputs": [
        {
          "output_type": "stream",
          "name": "stdout",
          "text": [
            "Total time taken by a program -->  0.000203 sec\n"
          ]
        }
      ]
    },
    {
      "cell_type": "markdown",
      "source": [
        "## **12. To sort number of elements and finding time taken and plot a graph**"
      ],
      "metadata": {
        "id": "2O8qZncM4zSj"
      }
    },
    {
      "cell_type": "code",
      "source": [
        "import random as r\n",
        "import time as t\n",
        "import matplotlib.pyplot as plt\n",
        "\n",
        "L = [5000 , 10000 , 15000 , 20000 , 25000]\n",
        "\n",
        "time_taken = []\n",
        "for i in L:\n",
        "  L1 = [r.randint(1,100000) for j in range(i)]\n",
        "\n",
        "  start_time = t.time()\n",
        "  L1.sort()\n",
        "  end_time = t.time()\n",
        "\n",
        "  total_time = end_time - start_time\n",
        "  time_taken.append(total_time)\n",
        "\n",
        "  print(f\"List size {i} --> Time taken : {total_time:6f} sec\")\n",
        "\n",
        "plt.plot(L, time_taken, marker = 'o', color = 'b')\n",
        "plt.title(\"List size vs Time taken\")\n",
        "plt.xlabel(\"List size\")\n",
        "plt.ylabel(\"Time taken (seconds)\")\n",
        "plt.grid(True)\n",
        "plt.show()"
      ],
      "metadata": {
        "colab": {
          "base_uri": "https://localhost:8080/",
          "height": 559
        },
        "id": "lzifE_-S5AMj",
        "outputId": "ef9bc155-a0e9-4ef6-964d-4a41af8f772f"
      },
      "execution_count": 84,
      "outputs": [
        {
          "output_type": "stream",
          "name": "stdout",
          "text": [
            "List size 5000 --> Time taken : 0.001176 sec\n",
            "List size 10000 --> Time taken : 0.002400 sec\n",
            "List size 15000 --> Time taken : 0.003862 sec\n",
            "List size 20000 --> Time taken : 0.005493 sec\n",
            "List size 25000 --> Time taken : 0.007888 sec\n"
          ]
        },
        {
          "output_type": "display_data",
          "data": {
            "text/plain": [
              "<Figure size 640x480 with 1 Axes>"
            ],
            "image/png": "[encoded data removed]"
          },
          "metadata": {}
        }
      ]
    },
    {
      "cell_type": "markdown",
      "source": [
        "## **13. Creating a dictionary**"
      ],
      "metadata": {
        "id": "eI0ff0N09iTz"
      }
    },
    {
      "cell_type": "code",
      "source": [
        "D = { \"Aryan\":[65,98,23,75,72],\n",
        "      \"Arun\":[98,38,68,48,69],\n",
        "      \"Varun\":[49,92,85,76,39],\n",
        "      \"Kriti\":[56,82,90,60,48],\n",
        "      \"Kartik\":[50,79,38,62,81]\n",
        "     }\n",
        "\n",
        "average = {}\n",
        "for student, marks in D.items():\n",
        "  avg = sum(marks)/len(marks)\n",
        "  average[student] = avg\n",
        "  print(f\"{student} --> Average marks : {avg:.3f}\")\n",
        "\n",
        "min_avg = min(average , key=average.get)\n",
        "max_avg = max(average , key=average.get)\n",
        "\n",
        "print(\"Maximum average number --> \",max_avg ,\"-->\" , average[max_avg])\n",
        "print(\"Minimum average number --> \",min_avg, \"--> \" , average[min_avg])"
      ],
      "metadata": {
        "colab": {
          "base_uri": "https://localhost:8080/"
        },
        "id": "D3V5QRTv90na",
        "outputId": "a7b61bd4-c525-438d-b599-12176fab02f0"
      },
      "execution_count": 94,
      "outputs": [
        {
          "output_type": "stream",
          "name": "stdout",
          "text": [
            "Aryan --> Average marks : 66.600\n",
            "Arun --> Average marks : 64.200\n",
            "Varun --> Average marks : 68.200\n",
            "Kriti --> Average marks : 67.200\n",
            "Kartik --> Average marks : 62.000\n",
            "Maximum average number -->  Varun --> 68.2\n",
            "Minimum average number -->  Kartik -->  62.0\n"
          ]
        }
      ]
    }
  ]
}