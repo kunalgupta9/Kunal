{
  "nbformat": 4,
  "nbformat_minor": 0,
  "metadata": {
    "colab": {
      "provenance": []
    },
    "kernelspec": {
      "name": "python3",
      "display_name": "Python 3"
    },
    "language_info": {
      "name": "python"
    }
  },
  "cells": [
    {
      "cell_type": "markdown",
      "source": [
        "## **1. Sorting the list of heterogeneous data**"
      ],
      "metadata": {
        "id": "ezwPKFViUpwI"
      }
    },
    {
      "cell_type": "markdown",
      "source": [
        "**1.1 First method**"
      ],
      "metadata": {
        "id": "JhKARPyHVHix"
      }
    },
    {
      "cell_type": "code",
      "source": [
        "L = [\"Ram\",3,\"Shyam\",1,\"Aman\",2]\n",
        "print(L)\n",
        "L= sorted(L,key=str)\n",
        "print(L)"
      ],
      "metadata": {
        "colab": {
          "base_uri": "https://localhost:8080/"
        },
        "id": "TpXidNV-gSEv",
        "outputId": "06740f1f-0e6c-41e4-afea-7408935040bb"
      },
      "execution_count": null,
      "outputs": [
        {
          "output_type": "stream",
          "name": "stdout",
          "text": [
            "['Ram', 3, 'Shyam', 1, 'Aman', 2]\n",
            "[1, 2, 3, 'Aman', 'Ram', 'Shyam']\n"
          ]
        }
      ]
    },
    {
      "cell_type": "markdown",
      "source": [
        "**1.2 Second method**"
      ],
      "metadata": {
        "id": "voZziXvhVN7C"
      }
    },
    {
      "cell_type": "code",
      "source": [
        "L = [\"Ram\",3,\"Shyam\",1,\"Aman\",2]\n",
        "L1 = [str(x) for x in L]\n",
        "L1.sort()\n",
        "print(L1)"
      ],
      "metadata": {
        "colab": {
          "base_uri": "https://localhost:8080/"
        },
        "id": "Kfvy1sM4j4kb",
        "outputId": "0512e8b8-7a6c-4468-fb06-cf42ccc83914"
      },
      "execution_count": null,
      "outputs": [
        {
          "output_type": "stream",
          "name": "stdout",
          "text": [
            "['1', '2', '3', 'Aman', 'Ram', 'Shyam']\n"
          ]
        }
      ]
    },
    {
      "cell_type": "markdown",
      "source": [
        "**1.3 Third method**"
      ],
      "metadata": {
        "id": "qDeYTku4VSYK"
      }
    },
    {
      "cell_type": "code",
      "source": [
        "L = [\"Ram\", 3, \"Shyam\", 1, \"Aman\", 2]\n",
        "L1 = [x for x in L if isinstance(x,str)]\n",
        "L2 = [x for x in L if isinstance(x,int)]\n",
        "L1.sort()\n",
        "L2.sort()\n",
        "L3 = L2+L1\n",
        "print(L3)"
      ],
      "metadata": {
        "colab": {
          "base_uri": "https://localhost:8080/"
        },
        "id": "Wu3VTu5bltXV",
        "outputId": "85a61954-efc4-42e2-d4c4-219878623248"
      },
      "execution_count": null,
      "outputs": [
        {
          "output_type": "stream",
          "name": "stdout",
          "text": [
            "[1, 2, 3, 'Aman', 'Ram', 'Shyam']\n"
          ]
        }
      ]
    }
  ]
}